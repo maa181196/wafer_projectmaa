{
 "cells": [
  {
   "cell_type": "code",
   "execution_count": 1,
   "id": "2eb3c5d1",
   "metadata": {},
   "outputs": [],
   "source": [
    "import os\n",
    "import csv\n",
    "import shutil\n",
    "import logging as lg\n",
    "import pandas as pd\n",
    "import numpy as np\n",
    "import mysql.connector as connection\n"
   ]
  },
  {
   "cell_type": "code",
   "execution_count": 27,
   "id": "760c6fdd",
   "metadata": {},
   "outputs": [],
   "source": [
    "def dump_into_mySQL(path):\n",
    "    lg.basicConfig(filename='dumb_mysql.log',level=lg.INFO, format ='%(asctime)s %(message)s')\n",
    "    lg.info(\"the exceution will be start from here\")\n",
    "    mydb = connection.connect(host=\"localhost\", user=\"root\", passwd=\"abcd@1234\",use_pure=True)\n",
    "    lg.info(\"True\")\n",
    "    query =\"use wafer_project\"\n",
    "    cursor=mydb.cursor()\n",
    "    cursor.execute(query)\n",
    "    lg.info(\"query completed\")\n",
    "    cursor =mydb.cursor\n",
    "    query1 = \"CREATE TABLE wafer_data (Sensor1 float(15,10),Sensor2 float(15,10),Sensor3 float(15,10),Sensor4 float(15,10),Sensor5 float(15,10),Sensor6 float(15,10),Sensor7 float(15,10),Sensor8 float(15,10),Sensor9 float(15,10),Sensor10 float(15,10),Sensor11 float(15,10),Sensor12 float(15,10),Sensor13 float(15,10),Sensor14 float(15,10),Sensor15 float(15,10),Sensor16 float(15,10),Sensor17 float(15,10),Sensor18 float(15,10),Sensor19 float(15,10),Sensor20 float(15,10),Sensor21 float(15,10),Sensor22 float(15,10),Sensor23 float(15,10),Sensor24 float(15,10),Sensor25 float(15,10),Sensor26 float(15,10),Sensor27 float(15,10),Sensor28 float(15,10),Sensor29 float(15,10),Sensor30 float(15,10),Sensor31 float(15,10),Sensor32 float(15,10),Sensor33 float(15,10),Sensor34 float(15,10),Sensor35 float(15,10),Sensor36 float(15,10),Sensor37 float(15,10),Sensor38 float(15,10),Sensor39 float(15,10),Sensor40 float(15,10),Sensor41 float(15,10),Sensor42 float(15,10),Sensor43 float(15,10),Sensor44 float(15,10),Sensor45 float(15,10),Sensor46 float(15,10),Sensor47 float(15,10),Sensor48 float(15,10),Sensor49 float(15,10),Sensor50 float(15,10),Sensor51 float(15,10),Sensor52 float(15,10),Sensor53 float(15,10),Sensor54 float(15,10),Sensor55 float(15,10),Sensor56 float(15,10),Sensor57 float(15,10),Sensor58 float(15,10),Sensor59 float(15,10),Sensor60 float(15,10),Sensor61 float(15,10),Sensor62 float(15,10),Sensor63 float(15,10),Sensor64 float(15,10),Sensor65 float(15,10),Sensor66 float(15,10),Sensor67 float(15,10),Sensor68 float(15,10),Sensor69 float(15,10),Sensor70 float(15,10),Sensor71 float(15,10),Sensor72 float(15,10),Sensor73 float(15,10),Sensor74 float(15,10),Sensor75 float(15,10),Sensor76 float(15,10),Sensor77 float(15,10),Sensor78 float(15,10),Sensor79 float(15,10),Sensor80 float(15,10),Sensor81 float(15,10),Sensor82 float(15,10),Sensor83 float(15,10),Sensor84 float(15,10),Sensor85 float(15,10),Sensor86 float(15,10),Sensor87 float(15,10),Sensor88 float(15,10),Sensor89 float(15,10),Sensor90 float(15,10),Sensor91 float(15,10),Sensor92 float(15,10),Sensor93 float(15,10),Sensor94 float(15,10),Sensor95 float(15,10),Sensor96 float(15,10),Sensor97 float(15,10),Sensor98 float(15,10),Sensor99 float(15,10),Sensor100 float(15,10),\"\\\n",
    "    \"Sensor101 float(15,10),Sensor102 float(15,10),Sensor103 float(15,10),Sensor104 float(15,10),Sensor105 float(15,10),Sensor106 float(15,10),Sensor107 float(15,10),Sensor108 float(15,10),Sensor109 float(15,10),Sensor110 float(15,10),Sensor111 float(15,10),Sensor112 float(15,10),Sensor113 float(15,10),Sensor114 float(15,10),Sensor115 float(15,10),Sensor116 float(15,10),Sensor117 float(15,10),Sensor118 float(15,10),Sensor119 float(15,10),Sensor120 float(15,10),Sensor121 float(15,10),Sensor122 float(15,10),Sensor123 float(15,10),Sensor124 float(15,10),Sensor125 float(15,10),Sensor126 float(15,10),Sensor127 float(15,10),Sensor128 float(15,10),Sensor129 float(15,10),Sensor130 float(15,10),Sensor131 float(15,10),Sensor132 float(15,10),Sensor133 float(15,10),Sensor134 float(15,10),Sensor135 float(15,10),Sensor136 float(15,10),Sensor137 float(15,10),Sensor138 float(15,10),Sensor139 float(15,10),Sensor140 float(15,10),Sensor141 float(15,10),Sensor142 float(15,10),Sensor143 float(15,10),Sensor144 float(15,10),Sensor145 float(15,10),Sensor146 float(15,10),Sensor147 float(15,10),Sensor148 float(15,10),Sensor149 float(15,10),Sensor150 float(15,10),Sensor151 float(15,10),Sensor152 float(15,10),Sensor153 float(15,10),Sensor154 float(15,10),Sensor155 float(15,10),Sensor156 float(15,10),Sensor157 float(15,10),Sensor158 float(15,10),Sensor159 float(15,10),Sensor160 float(15,10),Sensor161 float(15,10),Sensor162 float(15,10),Sensor163 float(15,10),Sensor164 float(15,10),Sensor165 float(15,10),Sensor166 float(15,10),Sensor167 float(15,10),Sensor168 float(15,10),Sensor169 float(15,10),Sensor170 float(15,10),Sensor171 float(15,10),Sensor172 float(15,10),Sensor173 float(15,10),Sensor174 float(15,10),Sensor175 float(15,10),Sensor176 float(15,10),Sensor177 float(15,10),Sensor178 float(15,10),Sensor179 float(15,10),Sensor180 float(15,10),Sensor181 float(15,10),Sensor182 float(15,10),Sensor183 float(15,10),Sensor184 float(15,10),Sensor185 float(15,10),Sensor186 float(15,10),Sensor187 float(15,10),Sensor188 float(15,10),Sensor189 float(15,10),Sensor190 float(15,10),Sensor191 float(15,10),Sensor192 float(15,10),Sensor193 float(15,10),Sensor194 float(15,10),Sensor195 float(15,10),Sensor196 float(15,10),Sensor197 float(15,10),Sensor198 float(15,10),Sensor199 float(15,10),Sensor200 float(15,10),\"\\\n",
    "    \"Sensor201 float(15,10),Sensor202 float(15,10),Sensor203 float(15,10),Sensor204 float(15,10),Sensor205 float(15,10),Sensor206 float(15,10),Sensor207 float(15,10),Sensor208 float(15,10),Sensor209 float(15,10),Sensor210 float(15,10),Sensor211 float(15,10),Sensor212 float(15,10),Sensor213 float(15,10),Sensor214 float(15,10),Sensor215 float(15,10),Sensor216 float(15,10),Sensor217 float(15,10),Sensor218 float(15,10),Sensor219 float(15,10),Sensor220 float(15,10),Sensor221 float(15,10),Sensor222 float(15,10),Sensor223 float(15,10),Sensor224 float(15,10),Sensor225 float(15,10),Sensor226 float(15,10),Sensor227 float(15,10),Sensor228 float(15,10),Sensor229 float(15,10),Sensor230 float(15,10),Sensor231 float(15,10),Sensor232 float(15,10),Sensor233 float(15,10),Sensor234 float(15,10),Sensor235 float(15,10),Sensor236 float(15,10),Sensor237 float(15,10),Sensor238 float(15,10),Sensor239 float(15,10),Sensor240 float(15,10),Sensor241 float(15,10),Sensor242 float(15,10),Sensor243 float(15,10),Sensor244 float(15,10),Sensor245 float(15,10),Sensor246 float(15,10),Sensor247 float(15,10),Sensor248 float(15,10),Sensor249 float(15,10),Sensor250 float(15,10),Sensor251 float(15,10),Sensor252 float(15,10),Sensor253 float(15,10),Sensor254 float(15,10),Sensor255 float(15,10),Sensor256 float(15,10),Sensor257 float(15,10),Sensor258 float(15,10),Sensor259 float(15,10),Sensor260 float(15,10),Sensor261 float(15,10),Sensor262 float(15,10),Sensor263 float(15,10),Sensor264 float(15,10),Sensor265 float(15,10),Sensor266 float(15,10),Sensor267 float(15,10),Sensor268 float(15,10),Sensor269 float(15,10),Sensor270 float(15,10),Sensor271 float(15,10),Sensor272 float(15,10),Sensor273 float(15,10),Sensor274 float(15,10),Sensor275 float(15,10),Sensor276 float(15,10),Sensor277 float(15,10),Sensor278 float(15,10),Sensor279 float(15,10),Sensor280 float(15,10),Sensor281 float(15,10),Sensor282 float(15,10),Sensor283 float(15,10),Sensor284 float(15,10),Sensor285 float(15,10),Sensor286 float(15,10),Sensor287 float(15,10),Sensor288 float(15,10),Sensor289 float(15,10),Sensor290 float(15,10),Sensor291 float(15,10),Sensor292 float(15,10),Sensor293 float(15,10),Sensor294 float(15,10),Sensor295 float(15,10),Sensor296 float(15,10),Sensor297 float(15,10),Sensor298 float(15,10),Sensor299 float(15,10),Sensor300 float(15,10),\"\\\n",
    "    \"Sensor301 float(15,10),Sensor302 float(15,10),Sensor303 float(15,10),Sensor304 float(15,10),Sensor305 float(15,10),Sensor306 float(15,10),Sensor307 float(15,10),Sensor308 float(15,10),Sensor309 float(15,10),Sensor310 float(15,10),Sensor311 float(15,10),Sensor312 float(15,10),Sensor313 float(15,10),Sensor314 float(15,10),Sensor315 float(15,10),Sensor316 float(15,10),Sensor317 float(15,10),Sensor318 float(15,10),Sensor319 float(15,10),Sensor320 float(15,10),Sensor321 float(15,10),Sensor322 float(15,10),Sensor323 float(15,10),Sensor324 float(15,10),Sensor325 float(15,10),Sensor326 float(15,10),Sensor327 float(15,10),Sensor328 float(15,10),Sensor329 float(15,10),Sensor330 float(15,10),Sensor331 float(15,10),Sensor332 float(15,10),Sensor333 float(15,10),Sensor334 float(15,10),Sensor335 float(15,10),Sensor336 float(15,10),Sensor337 float(15,10),Sensor338 float(15,10),Sensor339 float(15,10),Sensor340 float(15,10),Sensor341 float(15,10),Sensor342 float(15,10),Sensor343 float(15,10),Sensor344 float(15,10),Sensor345 float(15,10),Sensor346 float(15,10),Sensor347 float(15,10),Sensor348 float(15,10),Sensor349 float(15,10),Sensor350 float(15,10),Sensor351 float(15,10),Sensor352 float(15,10),Sensor353 float(15,10),Sensor354 float(15,10),Sensor355 float(15,10),Sensor356 float(15,10),Sensor357 float(15,10),Sensor358 float(15,10),Sensor359 float(15,10),Sensor360 float(15,10),Sensor361 float(15,10),Sensor362 float(15,10),Sensor363 float(15,10),Sensor364 float(15,10),Sensor365 float(15,10),Sensor366 float(15,10),Sensor367 float(15,10),Sensor368 float(15,10),Sensor369 float(15,10),Sensor370 float(15,10),Sensor371 float(15,10),Sensor372 float(15,10),Sensor373 float(15,10),Sensor374 float(15,10),Sensor375 float(15,10),Sensor376 float(15,10),Sensor377 float(15,10),Sensor378 float(15,10),Sensor379 float(15,10),Sensor380 float(15,10),Sensor381 float(15,10),Sensor382 float(15,10),Sensor383 float(15,10),Sensor384 float(15,10),Sensor385 float(15,10),Sensor386 float(15,10),Sensor387 float(15,10),Sensor388 float(15,10),Sensor389 float(15,10),Sensor390 float(15,10),Sensor391 float(15,10),Sensor392 float(15,10),Sensor393 float(15,10),Sensor394 float(15,10),Sensor395 float(15,10),Sensor396 float(15,10),Sensor397 float(15,10),Sensor398 float(15,10),Sensor399 float(15,10),Sensor400 float(15,10),\"\\\n",
    "    \"Sensor401 float(15,10),Sensor402 float(15,10),Sensor403 float(15,10),Sensor404 float(15,10),Sensor405 float(15,10),Sensor406 float(15,10),Sensor407 float(15,10),Sensor408 float(15,10),Sensor409 float(15,10),Sensor410 float(15,10),Sensor411 float(15,10),Sensor412 float(15,10),Sensor413 float(15,10),Sensor414 float(15,10),Sensor415 float(15,10),Sensor416 float(15,10),Sensor417 float(15,10),Sensor418 float(15,10),Sensor419 float(15,10),Sensor420 float(15,10),Sensor421 float(15,10),Sensor422 float(15,10),Sensor423 float(15,10),Sensor424 float(15,10),Sensor425 float(15,10),Sensor426 float(15,10),Sensor427 float(15,10),Sensor428 float(15,10),Sensor429 float(15,10),Sensor430 float(15,10),Sensor431 float(15,10),Sensor432 float(15,10),Sensor433 float(15,10),Sensor434 float(15,10),Sensor435 float(15,10),Sensor436 float(15,10),Sensor437 float(15,10),Sensor438 float(15,10),Sensor439 float(15,10),Sensor440 float(15,10),Sensor441 float(15,10),Sensor442 float(15,10),Sensor443 float(15,10),Sensor444 float(15,10),Sensor445 float(15,10),Sensor446 float(15,10),Sensor447 float(15,10),Sensor448 float(15,10),Sensor449 float(15,10),Sensor450 float(15,10),Sensor451 float(15,10),Sensor452 float(15,10),Sensor453 float(15,10),Sensor454 float(15,10),Sensor455 float(15,10),Sensor456 float(15,10),Sensor457 float(15,10),Sensor458 float(15,10),Sensor459 float(15,10),Sensor460 float(15,10),Sensor461 float(15,10),Sensor462 float(15,10),Sensor463 float(15,10),Sensor464 float(15,10),Sensor465 float(15,10),Sensor466 float(15,10),Sensor467 float(15,10),Sensor468 float(15,10),Sensor469 float(15,10),Sensor470 float(15,10),Sensor471 float(15,10),Sensor472 float(15,10),Sensor473 float(15,10),Sensor474 float(15,10),Sensor475 float(15,10),Sensor476 float(15,10),Sensor477 float(15,10),Sensor478 float(15,10),Sensor479 float(15,10),Sensor480 float(15,10),Sensor481 float(15,10),Sensor482 float(15,10),Sensor483 float(15,10),Sensor484 float(15,10),Sensor485 float(15,10),Sensor486 float(15,10),Sensor487 float(15,10),Sensor488 float(15,10),Sensor489 float(15,10),Sensor490 float(15,10),Sensor491 float(15,10),Sensor492 float(15,10),Sensor493 float(15,10),Sensor494 float(15,10),Sensor495 float(15,10),Sensor496 float(15,10),Sensor497 float(15,10),Sensor498 float(15,10),Sensor499 float(15,10),Sensor500 float(15,10),\"\\\n",
    "    \"Sensor501 float(15,10),Sensor502 float(15,10),Sensor503 float(15,10),Sensor504 float(15,10),Sensor505 float(15,10),Sensor506 float(15,10),Sensor507 float(15,10),Sensor508 float(15,10),Sensor509 float(15,10),Sensor510 float(15,10),Sensor511 float(15,10),Sensor512 float(15,10),Sensor513 float(15,10),Sensor514 float(15,10),Sensor515 float(15,10),Sensor516 float(15,10),Sensor517 float(15,10),Sensor518 float(15,10),Sensor519 float(15,10),Sensor520 float(15,10),Sensor521 float(15,10),Sensor522 float(15,10),Sensor523 float(15,10),Sensor524 float(15,10),Sensor525 float(15,10),Sensor526 float(15,10),Sensor527 float(15,10),Sensor528 float(15,10),Sensor529 float(15,10),Sensor530 float(15,10),Sensor531 float(15,10),Sensor532 float(15,10),Sensor533 float(15,10),Sensor534 float(15,10),Sensor535 float(15,10),Sensor536 float(15,10),Sensor537 float(15,10),Sensor538 float(15,10),Sensor539 float(15,10),Sensor540 float(15,10),Sensor541 float(15,10),Sensor542 float(15,10),Sensor543 float(15,10),Sensor544 float(15,10),Sensor545 float(15,10),Sensor546 float(15,10),Sensor547 float(15,10),Sensor548 float(15,10),Sensor549 float(15,10),Sensor550 float(15,10),Sensor551 float(15,10),Sensor552 float(15,10),Sensor553 float(15,10),Sensor554 float(15,10),Sensor555 float(15,10),Sensor556 float(15,10),Sensor557 float(15,10),Sensor558 float(15,10),Sensor559 float(15,10),Sensor560 float(15,10),Sensor561 float(15,10),Sensor562 float(15,10),Sensor563 float(15,10),Sensor564 float(15,10),Sensor565 float(15,10),Sensor566 float(15,10),Sensor567 float(15,10),Sensor568 float(15,10),Sensor569 float(15,10),Sensor570 float(15,10),Sensor571 float(15,10),Sensor572 float(15,10),Sensor573 float(15,10),Sensor574 float(15,10),Sensor575 float(15,10),Sensor576 float(15,10),Sensor577 float(15,10),Sensor578 float(15,10),Sensor579 float(15,10),Sensor580 float(15,10),Sensor581 float(15,10),Sensor582 float(15,10),Sensor583 float(15,10),Sensor584 float(15,10),Sensor585 float(15,10),Sensor586 float(15,10),Sensor587 float(15,10),Sensor588 float(15,10),Sensor589 float(15,10),Sensor590 float(15,10),Good_bad INT(1))\"\n",
    "    cursor = mydb.cursor() #create a cursor to execute queries\n",
    "    cursor.execute(query1)\n",
    "    lg.info(\"Table Created!!\")\n",
    "    try:\n",
    "        for i in os.listdir(\"good_data1\"):\n",
    "            mydb = connection.connect(host=\"localhost\", user=\"root\", passwd=\"abcd@1234\",use_pure=True)\n",
    "            lg.info(\"True\")\n",
    "            query =\"use wafer_project\"\n",
    "            cursor=mydb.cursor()\n",
    "            cursor.execute(query)\n",
    "            lg.info(\"query completed\")\n",
    "            path ='C:\\\\Users\\\\Admin\\\\Desktop\\\\MACHINE_LEARNING_PROJECT'+\"\\\\good_data1\\\\\"+i\n",
    "            with open (path) as f:\n",
    "                next(f)\n",
    "                glass_data= csv.reader(f,delimiter=\"\\n\")\n",
    "                for line in enumerate(glass_data):\n",
    "                    for list_ in (line[1]):\n",
    "                        cursor.execute(\"INSERT INTO wafer_data values ({values})\".format(values=(list_)))\n",
    "            lg.info(\"data inserted!!\")\n",
    "            mydb.commit()\n",
    "            cursor.close()\n",
    "            mydb.close()\n",
    "    except Exception as e:\n",
    "        print (\"you can check in your log if your code will fail\")\n",
    "        lg.error(\"error has occured\")\n",
    "        lg.exception(str(e))\n",
    "\n",
    "            "
   ]
  },
  {
   "cell_type": "code",
   "execution_count": 16,
   "id": "5d4abacf",
   "metadata": {},
   "outputs": [
    {
     "data": {
      "text/plain": [
       "'C:\\\\Users\\\\Admin\\\\Desktop\\\\MACHINE_LEARNING_PROJECT'"
      ]
     },
     "execution_count": 16,
     "metadata": {},
     "output_type": "execute_result"
    }
   ],
   "source": [
    "pwd"
   ]
  },
  {
   "cell_type": "code",
   "execution_count": null,
   "id": "aca1b3e6",
   "metadata": {},
   "outputs": [],
   "source": []
  }
 ],
 "metadata": {
  "kernelspec": {
   "display_name": "Python 3 (ipykernel)",
   "language": "python",
   "name": "python3"
  },
  "language_info": {
   "codemirror_mode": {
    "name": "ipython",
    "version": 3
   },
   "file_extension": ".py",
   "mimetype": "text/x-python",
   "name": "python",
   "nbconvert_exporter": "python",
   "pygments_lexer": "ipython3",
   "version": "3.9.7"
  }
 },
 "nbformat": 4,
 "nbformat_minor": 5
}
