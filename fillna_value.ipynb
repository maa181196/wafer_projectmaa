{
 "cells": [
  {
   "cell_type": "code",
   "execution_count": 1,
   "id": "741499df",
   "metadata": {},
   "outputs": [],
   "source": [
    "import os\n",
    "import csv\n",
    "import shutil\n",
    "import logging as lg\n",
    "import pandas as pd\n",
    "import numpy as np\n",
    "import mysql.connector as connection\n",
    "import csv\n"
   ]
  },
  {
   "cell_type": "code",
   "execution_count": 2,
   "id": "58cc5f64",
   "metadata": {},
   "outputs": [],
   "source": [
    "def fill_na_value(path):\n",
    "    lg.basicConfig(filename='fill_na.log',level=lg.INFO, format ='%(asctime)s %(message)s')\n",
    "    lg.info(\"the exceution will be start from here\")\n",
    "    try:\n",
    "        for i in os.listdir(\"good_data1\"):\n",
    "            a=path+\"\\\\\"+\"good_data1\\\\\"+i\n",
    "            df =pd.read_csv(a)\n",
    "            if 'Unnamed: 0' in df.columns:\n",
    "                    df.drop(\"Unnamed: 0\",axis =1, inplace =True)\n",
    "                    df.to_csv(a,index =None, header =True)\n",
    "            else:\n",
    "                pass\n",
    "        lg.info(\"task completed\")\n",
    "    except Exception as e:\n",
    "        print (\"you can check in your log if your code will fail\")\n",
    "        lg.error(\"error has occured\")\n",
    "        lg.exception(str(e))\n"
   ]
  },
  {
   "cell_type": "code",
   "execution_count": 3,
   "id": "c19c5510",
   "metadata": {},
   "outputs": [],
   "source": [
    "def fill_na_value1(path):\n",
    "    lg.basicConfig(filename='fill_na.log',level=lg.INFO, format ='%(asctime)s %(message)s')\n",
    "    lg.info(\"the exceution will be start from here\")\n",
    "    try:\n",
    "        for i in os.listdir(\"good_data1\"):\n",
    "            a=path+\"\\\\\"+\"good_data1\\\\\"+i\n",
    "            df =pd.read_csv(a)\n",
    "            for j in df.columns:\n",
    "                df[j].fillna(value =df[j].mean(),inplace =True)\n",
    "                df.to_csv(a,index =None,header =True)\n",
    "\n",
    "        lg.info(\"task completed\")\n",
    "    except Exception as e:\n",
    "        print (\"you can check in your log if your code will fail\")\n",
    "        lg.error(\"error has occured\")\n",
    "        lg.exception(str(e))"
   ]
  },
  {
   "cell_type": "code",
   "execution_count": 4,
   "id": "977fbc7b",
   "metadata": {},
   "outputs": [],
   "source": [
    "path='C:\\\\Users\\\\Admin\\\\Desktop\\\\MACHINE_LEARNING_PROJECT'\n",
    "fill_na_value(path)"
   ]
  },
  {
   "cell_type": "code",
   "execution_count": 5,
   "id": "6247f8d2",
   "metadata": {},
   "outputs": [],
   "source": [
    "path='C:\\\\Users\\\\Admin\\\\Desktop\\\\MACHINE_LEARNING_PROJECT'\n",
    "fill_na_value1(path)"
   ]
  },
  {
   "cell_type": "code",
   "execution_count": null,
   "id": "8373409b",
   "metadata": {},
   "outputs": [],
   "source": [
    "os.listdir(\"good_data1\")"
   ]
  },
  {
   "cell_type": "code",
   "execution_count": null,
   "id": "cce29a3f",
   "metadata": {},
   "outputs": [],
   "source": [
    "pwd"
   ]
  },
  {
   "cell_type": "code",
   "execution_count": null,
   "id": "2705b08b",
   "metadata": {},
   "outputs": [],
   "source": [
    "Path ='C:\\\\Users\\\\Admin\\\\Desktop\\\\MACHINE_LEARNING_PROJECT'+\"\\\\\"+\"good_data1\\\\\"+\"wafer_13012020_090817.csv\"\n",
    "df =pd.read_csv(Path)\n"
   ]
  },
  {
   "cell_type": "code",
   "execution_count": null,
   "id": "c190d670",
   "metadata": {},
   "outputs": [],
   "source": [
    "df.head(20)"
   ]
  },
  {
   "cell_type": "code",
   "execution_count": null,
   "id": "1d845389",
   "metadata": {},
   "outputs": [],
   "source": [
    "df.shape"
   ]
  },
  {
   "cell_type": "code",
   "execution_count": null,
   "id": "b6042f10",
   "metadata": {},
   "outputs": [],
   "source": [
    "df.fillna(\"NAN\")"
   ]
  },
  {
   "cell_type": "code",
   "execution_count": null,
   "id": "11cc8730",
   "metadata": {},
   "outputs": [],
   "source": [
    "for i in os.listdir(\"good_data1\"):\n",
    "    a='C:\\\\Users\\\\Admin\\\\Desktop\\\\MACHINE_LEARNING_PROJECT'+\"\\\\\"+\"good_data1\\\\\"+i\n",
    "    df =pd.read_csv(a)\n",
    "    b=df.isna().sum()\n",
    "    print(b)"
   ]
  },
  {
   "cell_type": "code",
   "execution_count": null,
   "id": "21a78c47",
   "metadata": {},
   "outputs": [],
   "source": [
    "df.describe()"
   ]
  },
  {
   "cell_type": "code",
   "execution_count": null,
   "id": "e90c6f1f",
   "metadata": {},
   "outputs": [],
   "source": [
    "for i in df.columns:\n",
    "    print(type(i))\n",
    "    df[i].fillna(value =df[i].mean())"
   ]
  },
  {
   "cell_type": "code",
   "execution_count": null,
   "id": "706ad932",
   "metadata": {},
   "outputs": [],
   "source": [
    "df.columns"
   ]
  },
  {
   "cell_type": "code",
   "execution_count": null,
   "id": "9e33939c",
   "metadata": {},
   "outputs": [],
   "source": [
    "df['Sensor-1'].isna().sum()"
   ]
  },
  {
   "cell_type": "code",
   "execution_count": null,
   "id": "a97d5886",
   "metadata": {},
   "outputs": [],
   "source": [
    "df[\"Sensor-1\"].fillna(value =df[\"Sensor-1\"].mean())"
   ]
  },
  {
   "cell_type": "code",
   "execution_count": null,
   "id": "0c393b8d",
   "metadata": {},
   "outputs": [],
   "source": [
    "df[\"Sensor-1\"].fillna"
   ]
  },
  {
   "cell_type": "code",
   "execution_count": 6,
   "id": "4cf1c2d3",
   "metadata": {},
   "outputs": [
    {
     "name": "stdout",
     "output_type": "stream",
     "text": [
      "0\n",
      "5319\n",
      "9\n"
     ]
    }
   ],
   "source": [
    "file =0\n",
    "columns =0\n",
    "count=0\n",
    "for i in os.listdir(\"good_data1\"):\n",
    "    file+=1\n",
    "    path ='C:\\\\Users\\\\Admin\\\\Desktop\\\\MACHINE_LEARNING_PROJECT'+\"\\\\\"+\"good_data1\\\\\"+i\n",
    "    df1 =pd.read_csv(path)\n",
    "    for j in df1.columns:\n",
    "        columns+=1\n",
    "        a=df1[j].isna().sum()\n",
    "        count+=a\n",
    "print(count)\n",
    "print(columns)\n",
    "print(file)"
   ]
  },
  {
   "cell_type": "code",
   "execution_count": null,
   "id": "bc10d8e7",
   "metadata": {},
   "outputs": [],
   "source": [
    "5319/9"
   ]
  },
  {
   "cell_type": "code",
   "execution_count": null,
   "id": "3c9388c9",
   "metadata": {},
   "outputs": [],
   "source": [
    "9*592"
   ]
  },
  {
   "cell_type": "code",
   "execution_count": null,
   "id": "b0b1a91c",
   "metadata": {},
   "outputs": [],
   "source": [
    "for i in os.listdir(\"good_data1\"):\n",
    "    print(i)"
   ]
  },
  {
   "cell_type": "code",
   "execution_count": null,
   "id": "4af54e74",
   "metadata": {},
   "outputs": [],
   "source": [
    "pwd"
   ]
  },
  {
   "cell_type": "code",
   "execution_count": null,
   "id": "75cd8ffb",
   "metadata": {},
   "outputs": [],
   "source": [
    "for i in os.listdir(\"good_data1\"):\n",
    "    path ='C:\\\\Users\\\\Admin\\\\Desktop\\\\MACHINE_LEARNING_PROJECT'+\"\\\\good_data1\\\\\"+i\n",
    "    \n",
    "    df =pd.read_csv(path)\n",
    "    columns= df.columns\n",
    "    print(columns)\n",
    "    "
   ]
  },
  {
   "cell_type": "code",
   "execution_count": null,
   "id": "5f20f6fa",
   "metadata": {},
   "outputs": [],
   "source": [
    "os.listdir()"
   ]
  },
  {
   "cell_type": "code",
   "execution_count": null,
   "id": "13b032ed",
   "metadata": {},
   "outputs": [],
   "source": [
    "path ='C:\\\\Users\\\\Admin\\\\Desktop\\\\MACHINE_LEARNING_PROJECT'+\"\\\\good_data1\\\\\"+\"wafer_13012020_090817.csv\"\n",
    "df =pd.read_csv(path)"
   ]
  },
  {
   "cell_type": "code",
   "execution_count": null,
   "id": "0abf62f4",
   "metadata": {},
   "outputs": [],
   "source": [
    "df.head()"
   ]
  },
  {
   "cell_type": "code",
   "execution_count": null,
   "id": "505d4da6",
   "metadata": {},
   "outputs": [],
   "source": [
    "for j in df.columns:\n",
    "    df[j].fillna(\"Nan\")"
   ]
  },
  {
   "cell_type": "code",
   "execution_count": null,
   "id": "85fb9474",
   "metadata": {},
   "outputs": [],
   "source": [
    "df.isna()"
   ]
  },
  {
   "cell_type": "code",
   "execution_count": null,
   "id": "e6a63744",
   "metadata": {},
   "outputs": [],
   "source": [
    "df.fillna('NAN', inplace =True)"
   ]
  },
  {
   "cell_type": "code",
   "execution_count": null,
   "id": "86ce6bcd",
   "metadata": {},
   "outputs": [],
   "source": [
    "df.describe()"
   ]
  },
  {
   "cell_type": "code",
   "execution_count": null,
   "id": "af73661f",
   "metadata": {},
   "outputs": [],
   "source": [
    "df.isna()"
   ]
  },
  {
   "cell_type": "code",
   "execution_count": null,
   "id": "b82741b5",
   "metadata": {},
   "outputs": [],
   "source": [
    "df['Sensor-1'].mean()"
   ]
  },
  {
   "cell_type": "code",
   "execution_count": null,
   "id": "2f245d78",
   "metadata": {},
   "outputs": [],
   "source": [
    "df"
   ]
  },
  {
   "cell_type": "code",
   "execution_count": null,
   "id": "7bc6d19b",
   "metadata": {},
   "outputs": [],
   "source": []
  },
  {
   "cell_type": "code",
   "execution_count": null,
   "id": "778cb961",
   "metadata": {},
   "outputs": [],
   "source": []
  }
 ],
 "metadata": {
  "kernelspec": {
   "display_name": "Python 3 (ipykernel)",
   "language": "python",
   "name": "python3"
  },
  "language_info": {
   "codemirror_mode": {
    "name": "ipython",
    "version": 3
   },
   "file_extension": ".py",
   "mimetype": "text/x-python",
   "name": "python",
   "nbconvert_exporter": "python",
   "pygments_lexer": "ipython3",
   "version": "3.9.7"
  }
 },
 "nbformat": 4,
 "nbformat_minor": 5
}
